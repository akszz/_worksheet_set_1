{
 "cells": [
  {
   "cell_type": "code",
   "execution_count": 1,
   "id": "7d48fb9b",
   "metadata": {},
   "outputs": [
    {
     "name": "stdout",
     "output_type": "stream",
     "text": [
      "enter any stringi am doing my internship in Roboflip data science compony\n",
      "enter search characterc\n",
      "number of time found= 3\n"
     ]
    }
   ],
   "source": [
    "#frequency in string\n",
    "\n",
    "na=input(\"enter any string\")\n",
    "\n",
    "ch=input(\"enter search character\")\n",
    "f=0\n",
    "for i in na:\n",
    "    if i == ch:\n",
    "        f=f+1\n",
    "print(\"number of time found=\", f)"
   ]
  },
  {
   "cell_type": "code",
   "execution_count": null,
   "id": "0bdf40fd",
   "metadata": {},
   "outputs": [],
   "source": []
  }
 ],
 "metadata": {
  "kernelspec": {
   "display_name": "Python 3 (ipykernel)",
   "language": "python",
   "name": "python3"
  },
  "language_info": {
   "codemirror_mode": {
    "name": "ipython",
    "version": 3
   },
   "file_extension": ".py",
   "mimetype": "text/x-python",
   "name": "python",
   "nbconvert_exporter": "python",
   "pygments_lexer": "ipython3",
   "version": "3.9.7"
  }
 },
 "nbformat": 4,
 "nbformat_minor": 5
}
