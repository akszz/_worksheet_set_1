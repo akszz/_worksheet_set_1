{
 "cells": [
  {
   "cell_type": "code",
   "execution_count": 1,
   "id": "1ab68482",
   "metadata": {},
   "outputs": [
    {
     "name": "stdout",
     "output_type": "stream",
     "text": [
      "enter the length\n",
      "a: 6\n",
      "b: 8\n",
      "the length of hypotenuse is 10.0\n"
     ]
    }
   ],
   "source": [
    "from math import sqrt\n",
    "print(\"enter the length\")\n",
    "a=float(input(\"a: \"))\n",
    "b=float(input(\"b: \"))\n",
    "\n",
    "c=sqrt(a**2 + b**2)\n",
    "print(\"the length of hypotenuse is\", c)\n"
   ]
  },
  {
   "cell_type": "code",
   "execution_count": null,
   "id": "7814093a",
   "metadata": {},
   "outputs": [],
   "source": []
  }
 ],
 "metadata": {
  "kernelspec": {
   "display_name": "Python 3 (ipykernel)",
   "language": "python",
   "name": "python3"
  },
  "language_info": {
   "codemirror_mode": {
    "name": "ipython",
    "version": 3
   },
   "file_extension": ".py",
   "mimetype": "text/x-python",
   "name": "python",
   "nbconvert_exporter": "python",
   "pygments_lexer": "ipython3",
   "version": "3.9.7"
  }
 },
 "nbformat": 4,
 "nbformat_minor": 5
}
