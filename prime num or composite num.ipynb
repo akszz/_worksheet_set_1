{
 "cells": [
  {
   "cell_type": "code",
   "execution_count": 2,
   "id": "e640da7b",
   "metadata": {},
   "outputs": [
    {
     "name": "stdout",
     "output_type": "stream",
     "text": [
      "enter the natural number:8\n",
      "8 is a composite number\n"
     ]
    }
   ],
   "source": [
    "number=int(input(\"enter the natural number:\"))\n",
    "if number <1:\n",
    "    print(\"number needs to be greater than 1\")\n",
    "elif number==1:\n",
    "    print(number,\"is neither prime nor composite\")\n",
    "else:\n",
    "    for divisor in range(2,(number//2)+1):\n",
    "        if (number % divisor)==0:\n",
    "            print(number,\"is a composite number\")\n",
    "            break\n",
    "    else:\n",
    "        print(number,\"ia a prime number\")"
   ]
  },
  {
   "cell_type": "code",
   "execution_count": null,
   "id": "434ee2d4",
   "metadata": {},
   "outputs": [],
   "source": []
  }
 ],
 "metadata": {
  "kernelspec": {
   "display_name": "Python 3 (ipykernel)",
   "language": "python",
   "name": "python3"
  },
  "language_info": {
   "codemirror_mode": {
    "name": "ipython",
    "version": 3
   },
   "file_extension": ".py",
   "mimetype": "text/x-python",
   "name": "python",
   "nbconvert_exporter": "python",
   "pygments_lexer": "ipython3",
   "version": "3.9.7"
  }
 },
 "nbformat": 4,
 "nbformat_minor": 5
}
