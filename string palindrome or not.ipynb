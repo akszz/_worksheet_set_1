{
 "cells": [
  {
   "cell_type": "code",
   "execution_count": 4,
   "id": "b0b62a8c",
   "metadata": {},
   "outputs": [
    {
     "name": "stdout",
     "output_type": "stream",
     "text": [
      "enter a string:akasha\n",
      "string is not Palindrome\n"
     ]
    }
   ],
   "source": [
    "original=input(\"enter a string:\")\n",
    "reverse=original[::-1]\n",
    "\n",
    "if original==reverse:\n",
    "    print(\"string is Palindrome\")\n",
    "else:\n",
    "    print(\"string is not Palindrome\")"
   ]
  },
  {
   "cell_type": "code",
   "execution_count": null,
   "id": "0cd557c0",
   "metadata": {},
   "outputs": [],
   "source": []
  },
  {
   "cell_type": "code",
   "execution_count": null,
   "id": "d9dd5c69",
   "metadata": {},
   "outputs": [],
   "source": []
  }
 ],
 "metadata": {
  "kernelspec": {
   "display_name": "Python 3 (ipykernel)",
   "language": "python",
   "name": "python3"
  },
  "language_info": {
   "codemirror_mode": {
    "name": "ipython",
    "version": 3
   },
   "file_extension": ".py",
   "mimetype": "text/x-python",
   "name": "python",
   "nbconvert_exporter": "python",
   "pygments_lexer": "ipython3",
   "version": "3.9.7"
  }
 },
 "nbformat": 4,
 "nbformat_minor": 5
}
